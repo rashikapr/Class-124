{
  "nbformat": 4,
  "nbformat_minor": 0,
  "metadata": {
    "colab": {
      "provenance": [],
      "authorship_tag": "ABX9TyO8l6FydfhmhyU0dUkokhjL",
      "include_colab_link": true
    },
    "kernelspec": {
      "name": "python3",
      "display_name": "Python 3"
    },
    "language_info": {
      "name": "python"
    }
  },
  "cells": [
    {
      "cell_type": "markdown",
      "metadata": {
        "id": "view-in-github",
        "colab_type": "text"
      },
      "source": [
        "<a href=\"https://colab.research.google.com/github/rashikapr/Class-124/blob/main/Untitled71.ipynb\" target=\"_parent\"><img src=\"https://colab.research.google.com/assets/colab-badge.svg\" alt=\"Open In Colab\"/></a>"
      ]
    },
    {
      "cell_type": "code",
      "execution_count": 1,
      "metadata": {
        "colab": {
          "base_uri": "https://localhost:8080/"
        },
        "id": "Xj-b1H5nyJ1u",
        "outputId": "1c36335d-07e2-465f-8ce2-e948a581ade9"
      },
      "outputs": [
        {
          "output_type": "stream",
          "name": "stdout",
          "text": [
            "[3, 2, -1, 9, 5]\n",
            "[[1, -2, 3], [8, 4, 6], [-6, 5, 3]]\n"
          ]
        }
      ],
      "source": [
        "A = [3,2,-1,9,5]\n",
        "print(A)\n",
        "B =[[1,-2,3],[8,4,6],[-6,5,3]]\n",
        "print(B)"
      ]
    },
    {
      "cell_type": "code",
      "source": [
        "import numpy as np\n",
        "\n",
        "arr = np.array([1, 2, 3, 4, 5])\n",
        "print(arr)\n",
        "print(type(arr))"
      ],
      "metadata": {
        "colab": {
          "base_uri": "https://localhost:8080/"
        },
        "id": "M6YuSbykyPMS",
        "outputId": "7d8bd08d-4048-46ca-9a4e-99422c8c92de"
      },
      "execution_count": 2,
      "outputs": [
        {
          "output_type": "stream",
          "name": "stdout",
          "text": [
            "[1 2 3 4 5]\n",
            "<class 'numpy.ndarray'>\n"
          ]
        }
      ]
    },
    {
      "cell_type": "code",
      "source": [
        "arr_2d =np.array([[1,2,3],[4,5,6],[7,8,9]])\n",
        "print(arr_2d)\n",
        "type(arr_2d)"
      ],
      "metadata": {
        "colab": {
          "base_uri": "https://localhost:8080/"
        },
        "id": "aYBdWoAHyQf6",
        "outputId": "44d12f7d-861d-4315-ae4b-71a01b257280"
      },
      "execution_count": 3,
      "outputs": [
        {
          "output_type": "stream",
          "name": "stdout",
          "text": [
            "[[1 2 3]\n",
            " [4 5 6]\n",
            " [7 8 9]]\n"
          ]
        },
        {
          "output_type": "execute_result",
          "data": {
            "text/plain": [
              "numpy.ndarray"
            ]
          },
          "metadata": {},
          "execution_count": 3
        }
      ]
    },
    {
      "cell_type": "code",
      "source": [
        "arr_2d_1 =np.array([[1,2,3],['a',5,True],[7,8,9]])\n",
        "print(arr_2d_1)\n",
        "type(arr_2d_1)"
      ],
      "metadata": {
        "colab": {
          "base_uri": "https://localhost:8080/"
        },
        "id": "Yw_VKhOQyaK-",
        "outputId": "d5253b00-1ef3-453d-f0b7-57ae542f8db8"
      },
      "execution_count": 4,
      "outputs": [
        {
          "output_type": "stream",
          "name": "stdout",
          "text": [
            "[['1' '2' '3']\n",
            " ['a' '5' 'True']\n",
            " ['7' '8' '9']]\n"
          ]
        },
        {
          "output_type": "execute_result",
          "data": {
            "text/plain": [
              "numpy.ndarray"
            ]
          },
          "metadata": {},
          "execution_count": 4
        }
      ]
    },
    {
      "cell_type": "code",
      "source": [
        "print(A)\n",
        "print(A[1])\n",
        "print(arr)\n",
        "print(arr[2])"
      ],
      "metadata": {
        "colab": {
          "base_uri": "https://localhost:8080/"
        },
        "id": "44hRtvTsyeXX",
        "outputId": "76d2c4a4-fd3d-41b4-e451-2fe40f86e9b4"
      },
      "execution_count": 5,
      "outputs": [
        {
          "output_type": "stream",
          "name": "stdout",
          "text": [
            "[3, 2, -1, 9, 5]\n",
            "2\n",
            "[1 2 3 4 5]\n",
            "3\n"
          ]
        }
      ]
    },
    {
      "cell_type": "code",
      "source": [
        "#accessing elements of 2D array method1\n",
        "print(arr_2d)\n",
        "print(arr_2d[1,2])\n",
        "#accessing elements of 2D array method2\n",
        "print(arr_2d[0][1])"
      ],
      "metadata": {
        "colab": {
          "base_uri": "https://localhost:8080/"
        },
        "id": "pXvQYbl_ymap",
        "outputId": "2d2df0ce-76ef-49bb-f6b6-ab5c19d2d082"
      },
      "execution_count": 6,
      "outputs": [
        {
          "output_type": "stream",
          "name": "stdout",
          "text": [
            "[[1 2 3]\n",
            " [4 5 6]\n",
            " [7 8 9]]\n",
            "6\n",
            "2\n"
          ]
        }
      ]
    },
    {
      "cell_type": "code",
      "source": [
        "#To update an element from 2D list/arrays\n",
        "print(arr_2d)\n",
        "print('----------------')\n",
        "# method 1\n",
        "arr_2d[1,2]=-4\n",
        "print(arr_2d)\n",
        "print('----------------')\n",
        "# method 2\n",
        "arr_2d[1,2]=8\n",
        "print(arr_2d)"
      ],
      "metadata": {
        "colab": {
          "base_uri": "https://localhost:8080/"
        },
        "id": "dnBN07M0yorj",
        "outputId": "999fec06-c261-4f70-8bf2-ae4227fad048"
      },
      "execution_count": 7,
      "outputs": [
        {
          "output_type": "stream",
          "name": "stdout",
          "text": [
            "[[1 2 3]\n",
            " [4 5 6]\n",
            " [7 8 9]]\n",
            "----------------\n",
            "[[ 1  2  3]\n",
            " [ 4  5 -4]\n",
            " [ 7  8  9]]\n",
            "----------------\n",
            "[[1 2 3]\n",
            " [4 5 8]\n",
            " [7 8 9]]\n"
          ]
        }
      ]
    }
  ]
}